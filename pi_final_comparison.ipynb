{
 "cells": [
  {
   "cell_type": "markdown",
   "id": "4eefc79f",
   "metadata": {},
   "source": [
    "# π Approximation Methods: Final Comparison\n",
    "\n",
    "This notebook compares different methods for approximating π (pi), including:\n",
    "- **Leibniz Series**\n",
    "- **Monte Carlo Simulation**\n",
    "- **Chudnovsky Algorithm**\n",
    "- **Buffon's Needle (if needed)**\n",
    "- **Wallis Product**\n",
    "\n",
    "Each method includes estimated value of π, error, and time taken."
   ]
  },
  {
   "cell_type": "code",
   "execution_count": 1,
   "id": "da145779",
   "metadata": {},
   "outputs": [],
   "source": [
    "import math\n",
    "import time\n",
    "import random\n",
    "import pandas as pd\n",
    "import matplotlib.pyplot as plt\n",
    "\n",
    "true_pi = math.pi\n",
    "\n",
    "methods = []\n",
    "estimates = []\n",
    "errors = []\n",
    "times = []"
   ]
  },
  {
   "cell_type": "code",
   "execution_count": 2,
   "id": "b4b420b7",
   "metadata": {},
   "outputs": [],
   "source": [
    "# Leibniz Method\n",
    "def leibniz_pi(n_terms):\n",
    "    pi_est = 0\n",
    "    for k in range(n_terms):\n",
    "        pi_est += ((-1)**k) / (2*k + 1)\n",
    "    return 4 * pi_est\n",
    "\n",
    "start = time.time()\n",
    "pi_l = leibniz_pi(1000000)\n",
    "time_l = time.time() - start\n",
    "err_l = abs(true_pi - pi_l)\n",
    "\n",
    "methods.append(\"Leibniz\")\n",
    "estimates.append(pi_l)\n",
    "errors.append(err_l)\n",
    "times.append(time_l)"
   ]
  },
  {
   "cell_type": "code",
   "execution_count": 3,
   "id": "a155abb0",
   "metadata": {},
   "outputs": [],
   "source": [
    "# Monte Carlo\n",
    "def monte_carlo_pi(n_points):\n",
    "    inside = 0\n",
    "    for _ in range(n_points):\n",
    "        x, y = random.random(), random.random()\n",
    "        if x*x + y*y <= 1:\n",
    "            inside += 1\n",
    "    return (inside / n_points) * 4\n",
    "\n",
    "start = time.time()\n",
    "pi_mc = monte_carlo_pi(1000000)\n",
    "time_mc = time.time() - start\n",
    "err_mc = abs(true_pi - pi_mc)\n",
    "\n",
    "methods.append(\"Monte Carlo\")\n",
    "estimates.append(pi_mc)\n",
    "errors.append(err_mc)\n",
    "times.append(time_mc)"
   ]
  },
  {
   "cell_type": "code",
   "execution_count": 4,
   "id": "6830fd53",
   "metadata": {},
   "outputs": [],
   "source": [
    "# Chudnovsky Algorithm\n",
    "def chudnovsky_pi(n_terms):\n",
    "    C = 426880 * math.sqrt(10005)\n",
    "    M = 1\n",
    "    L = 13591409\n",
    "    X = 1\n",
    "    K = 6\n",
    "    S = L\n",
    "\n",
    "    for i in range(1, n_terms):\n",
    "        M *= (K**3 - 16*K) // (i**3)\n",
    "        L += 545140134\n",
    "        X *= -262537412640768000\n",
    "        S += (M * L) / X\n",
    "        K += 12\n",
    "\n",
    "    return C / S\n",
    "\n",
    "start = time.time()\n",
    "pi_c = chudnovsky_pi(3)\n",
    "time_c = time.time() - start\n",
    "err_c = abs(true_pi - pi_c)\n",
    "\n",
    "methods.append(\"Chudnovsky\")\n",
    "estimates.append(pi_c)\n",
    "errors.append(err_c)\n",
    "times.append(time_c)"
   ]
  },
  {
   "cell_type": "code",
   "execution_count": 5,
   "id": "64fca952",
   "metadata": {},
   "outputs": [],
   "source": [
    "# Wallis Product\n",
    "def wallis_pi(n_terms):\n",
    "    product = 1.0\n",
    "    for i in range(1, n_terms):\n",
    "        product *= (4 * i * i) / (4 * i * i - 1)\n",
    "    return 2 * product\n",
    "\n",
    "start = time.time()\n",
    "pi_w = wallis_pi(1000000)\n",
    "time_w = time.time() - start\n",
    "err_w = abs(true_pi - pi_w)\n",
    "\n",
    "methods.append(\"Wallis\")\n",
    "estimates.append(pi_w)\n",
    "errors.append(err_w)\n",
    "times.append(time_w)"
   ]
  },
  {
   "cell_type": "code",
   "execution_count": 6,
   "id": "f21dc732",
   "metadata": {},
   "outputs": [
    {
     "data": {
      "text/html": [
       "<div>\n",
       "<style scoped>\n",
       "    .dataframe tbody tr th:only-of-type {\n",
       "        vertical-align: middle;\n",
       "    }\n",
       "\n",
       "    .dataframe tbody tr th {\n",
       "        vertical-align: top;\n",
       "    }\n",
       "\n",
       "    .dataframe thead th {\n",
       "        text-align: right;\n",
       "    }\n",
       "</style>\n",
       "<table border=\"1\" class=\"dataframe\">\n",
       "  <thead>\n",
       "    <tr style=\"text-align: right;\">\n",
       "      <th></th>\n",
       "      <th>Method</th>\n",
       "      <th>Estimated π</th>\n",
       "      <th>Error</th>\n",
       "      <th>Time (s)</th>\n",
       "    </tr>\n",
       "  </thead>\n",
       "  <tbody>\n",
       "    <tr>\n",
       "      <th>0</th>\n",
       "      <td>Leibniz</td>\n",
       "      <td>3.141592</td>\n",
       "      <td>1.000000e-06</td>\n",
       "      <td>0.420950</td>\n",
       "    </tr>\n",
       "    <tr>\n",
       "      <th>1</th>\n",
       "      <td>Monte Carlo</td>\n",
       "      <td>3.142804</td>\n",
       "      <td>1.211346e-03</td>\n",
       "      <td>0.406214</td>\n",
       "    </tr>\n",
       "    <tr>\n",
       "      <th>2</th>\n",
       "      <td>Chudnovsky</td>\n",
       "      <td>3.141593</td>\n",
       "      <td>0.000000e+00</td>\n",
       "      <td>0.000000</td>\n",
       "    </tr>\n",
       "    <tr>\n",
       "      <th>3</th>\n",
       "      <td>Wallis</td>\n",
       "      <td>3.141592</td>\n",
       "      <td>7.853984e-07</td>\n",
       "      <td>0.327368</td>\n",
       "    </tr>\n",
       "  </tbody>\n",
       "</table>\n",
       "</div>"
      ],
      "text/plain": [
       "        Method  Estimated π         Error  Time (s)\n",
       "0      Leibniz     3.141592  1.000000e-06  0.420950\n",
       "1  Monte Carlo     3.142804  1.211346e-03  0.406214\n",
       "2   Chudnovsky     3.141593  0.000000e+00  0.000000\n",
       "3       Wallis     3.141592  7.853984e-07  0.327368"
      ]
     },
     "execution_count": 6,
     "metadata": {},
     "output_type": "execute_result"
    }
   ],
   "source": [
    "# Final DataFrame\n",
    "df = pd.DataFrame({\n",
    "    \"Method\": methods,\n",
    "    \"Estimated π\": estimates,\n",
    "    \"Error\": errors,\n",
    "    \"Time (s)\": times\n",
    "})\n",
    "df"
   ]
  },
  {
   "cell_type": "code",
   "execution_count": 7,
   "id": "e7561292",
   "metadata": {},
   "outputs": [
    {
     "data": {
      "image/png": "[encoded data removed]",
      "text/plain": [
       "<Figure size 1000x500 with 1 Axes>"
      ]
     },
     "metadata": {},
     "output_type": "display_data"
    }
   ],
   "source": [
    "# Visual Comparison\n",
    "plt.figure(figsize=(10, 5))\n",
    "plt.bar(df['Method'], df['Error'], color='skyblue')\n",
    "plt.ylabel(\"Absolute Error\")\n",
    "plt.title(\"π Approximation Error by Method\")\n",
    "plt.grid(True)\n",
    "plt.show()"
   ]
  },
  {
   "cell_type": "code",
   "execution_count": null,
   "id": "ca5af7b8",
   "metadata": {},
   "outputs": [],
   "source": []
  }
 ],
 "metadata": {
  "kernelspec": {
   "display_name": "Python 3 (ipykernel)",
   "language": "python",
   "name": "python3"
  },
  "language_info": {
   "codemirror_mode": {
    "name": "ipython",
    "version": 3
   },
   "file_extension": ".py",
   "mimetype": "text/x-python",
   "name": "python",
   "nbconvert_exporter": "python",
   "pygments_lexer": "ipython3",
   "version": "3.11.5"
  }
 },
 "nbformat": 4,
 "nbformat_minor": 5
}
